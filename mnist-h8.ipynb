{
 "cells": [
  {
   "cell_type": "code",
   "execution_count": 296,
   "metadata": {
    "ExecuteTime": {
     "end_time": "2019-05-02T10:20:38.051822Z",
     "start_time": "2019-05-02T10:20:38.020559Z"
    }
   },
   "outputs": [],
   "source": [
    "\n",
    "%matplotlib inline\n",
    "import tensorflow as tf\n",
    "import os\n",
    "from keras.backend import set_session\n",
    "import numpy as np\n",
    "import keras\n",
    "import matplotlib.pyplot as plt\n",
    "from keras.datasets import mnist\n",
    "from keras.utils import np_utils\n",
    "from keras.callbacks import EarlyStopping \n",
    "from keras.models import Sequential\n",
    "from keras.layers import Dense, Activation\n",
    "from keras.optimizers import SGD\n",
    "from keras import optimizers"
   ]
  },
  {
   "cell_type": "code",
   "execution_count": 297,
   "metadata": {
    "ExecuteTime": {
     "end_time": "2019-05-02T10:20:38.098696Z",
     "start_time": "2019-05-02T10:20:38.051822Z"
    }
   },
   "outputs": [],
   "source": [
    "\n",
    "def create_session(gpu_id='0', pp_mem_frac=None):\n",
    "\n",
    "    tf.reset_default_graph()\n",
    "    os.environ[\"CUDA_VISIBLE_DEVICES\"] = gpu_id # can multiple?\n",
    "    with tf.device('/gpu:' + gpu_id):\n",
    "        config = tf.ConfigProto()\n",
    "        config.gpu_options.allow_growth = True\n",
    "        if pp_mem_frac is not None:\n",
    "            config.gpu_options.per_process_gpu_memory_fraction=pp_mem_frac\n",
    "        session = tf.Session(config = config)\n",
    "    return session\n",
    "gpu_id = '0'\n",
    "sess = create_session(gpu_id)\n",
    "set_session(sess)\n"
   ]
  },
  {
   "cell_type": "code",
   "execution_count": 298,
   "metadata": {
    "ExecuteTime": {
     "end_time": "2019-05-02T10:20:38.301789Z",
     "start_time": "2019-05-02T10:20:38.098696Z"
    }
   },
   "outputs": [],
   "source": [
    "#讀取檔案+整理成可丟進ann的格式\n",
    "(x_train, y_train), (x_test, y_test) = mnist.load_data()\n",
    "x_train = x_train.reshape(60000, 784)\n",
    "x_test = x_test.reshape(10000, 784)"
   ]
  },
  {
   "cell_type": "code",
   "execution_count": 299,
   "metadata": {
    "ExecuteTime": {
     "end_time": "2019-05-02T10:20:38.317415Z",
     "start_time": "2019-05-02T10:20:38.301789Z"
    }
   },
   "outputs": [],
   "source": [
    "#把label改成one hot編碼\n",
    "y_train = np_utils.to_categorical(y_train, 10)\n",
    "y_test = np_utils.to_categorical(y_test, 10)"
   ]
  },
  {
   "cell_type": "code",
   "execution_count": 300,
   "metadata": {
    "ExecuteTime": {
     "end_time": "2019-05-02T10:20:38.379946Z",
     "start_time": "2019-05-02T10:20:38.317415Z"
    }
   },
   "outputs": [],
   "source": [
    "# Functional API\n",
    "from keras.models import Model\n",
    "from keras.layers import Input\n",
    "from keras.layers import concatenate\n",
    "a1 = Dense(200, activation='relu')     \n",
    "a2 = Dense(200, activation='linear')     \n",
    "a3 = Dense(100, activation='relu')    \n",
    "a4 = Dense(100, activation='linear')   \n",
    "a5 = Dense(20, activation='relu')   \n",
    "a6 = Dense(20, activation='relu')\n",
    "a7 = Dense(10, activation='softmax')  \n",
    "x = Input(shape = (784,))\n",
    "L11 = a1(x)\n",
    "L12 = a2(x)\n",
    "L21 = a3(L11)\n",
    "L22 = a4(L12)\n",
    "L31 = a5(L21) #concatenate1\n",
    "L32 = a6(L22) #concatenate2\n",
    "u = concatenate([L31,L32])\n",
    "y = a7(u)"
   ]
  },
  {
   "cell_type": "code",
   "execution_count": 301,
   "metadata": {
    "ExecuteTime": {
     "end_time": "2019-05-02T10:20:38.395573Z",
     "start_time": "2019-05-02T10:20:38.379946Z"
    }
   },
   "outputs": [
    {
     "name": "stdout",
     "output_type": "stream",
     "text": [
      "__________________________________________________________________________________________________\n",
      "Layer (type)                    Output Shape         Param #     Connected to                     \n",
      "==================================================================================================\n",
      "input_1 (InputLayer)            (None, 784)          0                                            \n",
      "__________________________________________________________________________________________________\n",
      "dense_1 (Dense)                 (None, 200)          157000      input_1[0][0]                    \n",
      "__________________________________________________________________________________________________\n",
      "dense_2 (Dense)                 (None, 200)          157000      input_1[0][0]                    \n",
      "__________________________________________________________________________________________________\n",
      "dense_3 (Dense)                 (None, 100)          20100       dense_1[0][0]                    \n",
      "__________________________________________________________________________________________________\n",
      "dense_4 (Dense)                 (None, 100)          20100       dense_2[0][0]                    \n",
      "__________________________________________________________________________________________________\n",
      "dense_5 (Dense)                 (None, 20)           2020        dense_3[0][0]                    \n",
      "__________________________________________________________________________________________________\n",
      "dense_6 (Dense)                 (None, 20)           2020        dense_4[0][0]                    \n",
      "__________________________________________________________________________________________________\n",
      "concatenate_1 (Concatenate)     (None, 40)           0           dense_5[0][0]                    \n",
      "                                                                 dense_6[0][0]                    \n",
      "__________________________________________________________________________________________________\n",
      "dense_7 (Dense)                 (None, 10)           410         concatenate_1[0][0]              \n",
      "==================================================================================================\n",
      "Total params: 358,650\n",
      "Trainable params: 358,650\n",
      "Non-trainable params: 0\n",
      "__________________________________________________________________________________________________\n"
     ]
    }
   ],
   "source": [
    "model = Model(x, y)\n",
    "model.summary() "
   ]
  },
  {
   "cell_type": "code",
   "execution_count": 302,
   "metadata": {
    "ExecuteTime": {
     "end_time": "2019-05-02T10:20:38.426822Z",
     "start_time": "2019-05-02T10:20:38.395573Z"
    }
   },
   "outputs": [],
   "source": [
    "sgd = optimizers.SGD(lr=0.00021, decay=1e-9, momentum=0.9, clipvalue=1.)\n",
    "model.compile(loss='categorical_crossentropy', optimizer=sgd,metrics=['accuracy'])"
   ]
  },
  {
   "cell_type": "code",
   "execution_count": 303,
   "metadata": {
    "ExecuteTime": {
     "end_time": "2019-05-02T10:21:42.252052Z",
     "start_time": "2019-05-02T10:20:38.426822Z"
    },
    "scrolled": true
   },
   "outputs": [
    {
     "name": "stdout",
     "output_type": "stream",
     "text": [
      "Train on 54000 samples, validate on 6000 samples\n",
      "Epoch 1/30\n",
      "54000/54000 [==============================] - 2s 40us/step - loss: 7.5545 - acc: 0.5232 - val_loss: 3.2886 - val_acc: 0.7895\n",
      "Epoch 2/30\n",
      "54000/54000 [==============================] - 2s 35us/step - loss: 3.6740 - acc: 0.7661 - val_loss: 2.9647 - val_acc: 0.8120\n",
      "Epoch 3/30\n",
      "54000/54000 [==============================] - 2s 34us/step - loss: 3.1337 - acc: 0.8014 - val_loss: 2.9963 - val_acc: 0.8105\n",
      "Epoch 4/30\n",
      "54000/54000 [==============================] - 2s 34us/step - loss: 3.0278 - acc: 0.8081 - val_loss: 2.5353 - val_acc: 0.8395\n",
      "Epoch 5/30\n",
      "54000/54000 [==============================] - 2s 34us/step - loss: 2.7997 - acc: 0.8231 - val_loss: 2.3877 - val_acc: 0.8490\n",
      "Epoch 6/30\n",
      "54000/54000 [==============================] - 2s 34us/step - loss: 2.7677 - acc: 0.8249 - val_loss: 2.4027 - val_acc: 0.8473\n",
      "Epoch 7/30\n",
      "54000/54000 [==============================] - 2s 34us/step - loss: 2.5749 - acc: 0.8369 - val_loss: 1.2584 - val_acc: 0.9187\n",
      "Epoch 8/30\n",
      "54000/54000 [==============================] - 2s 34us/step - loss: 1.2932 - acc: 0.9161 - val_loss: 0.8747 - val_acc: 0.9422\n",
      "Epoch 9/30\n",
      "54000/54000 [==============================] - 2s 35us/step - loss: 1.2020 - acc: 0.9223 - val_loss: 1.0329 - val_acc: 0.9335\n",
      "Epoch 10/30\n",
      "54000/54000 [==============================] - 2s 37us/step - loss: 1.0595 - acc: 0.9316 - val_loss: 0.7826 - val_acc: 0.9492\n",
      "Epoch 11/30\n",
      "54000/54000 [==============================] - 2s 35us/step - loss: 1.0736 - acc: 0.9306 - val_loss: 0.7853 - val_acc: 0.9497\n",
      "Epoch 12/30\n",
      "54000/54000 [==============================] - 2s 34us/step - loss: 1.0625 - acc: 0.9310 - val_loss: 0.7958 - val_acc: 0.9482\n",
      "Epoch 13/30\n",
      "54000/54000 [==============================] - 2s 39us/step - loss: 1.0100 - acc: 0.9344 - val_loss: 0.7420 - val_acc: 0.9517\n",
      "Epoch 14/30\n",
      "54000/54000 [==============================] - 2s 38us/step - loss: 0.9555 - acc: 0.9382 - val_loss: 0.8229 - val_acc: 0.9463\n",
      "Epoch 15/30\n",
      "54000/54000 [==============================] - 2s 38us/step - loss: 0.9388 - acc: 0.9396 - val_loss: 0.7647 - val_acc: 0.9502\n",
      "Epoch 16/30\n",
      "54000/54000 [==============================] - 2s 37us/step - loss: 0.9473 - acc: 0.9386 - val_loss: 0.8171 - val_acc: 0.9467\n",
      "Epoch 17/30\n",
      "54000/54000 [==============================] - 2s 38us/step - loss: 0.9201 - acc: 0.9407 - val_loss: 0.7214 - val_acc: 0.9527\n",
      "Epoch 18/30\n",
      "54000/54000 [==============================] - 2s 38us/step - loss: 0.8794 - acc: 0.9435 - val_loss: 0.7269 - val_acc: 0.9525\n",
      "Epoch 19/30\n",
      "54000/54000 [==============================] - 2s 38us/step - loss: 0.8635 - acc: 0.9444 - val_loss: 0.7992 - val_acc: 0.9492\n",
      "Epoch 20/30\n",
      "54000/54000 [==============================] - 2s 39us/step - loss: 0.8505 - acc: 0.9452 - val_loss: 0.6816 - val_acc: 0.9562\n",
      "Epoch 21/30\n",
      "54000/54000 [==============================] - 2s 43us/step - loss: 0.8003 - acc: 0.9482 - val_loss: 0.6594 - val_acc: 0.9568\n",
      "Epoch 22/30\n",
      "54000/54000 [==============================] - 4s 73us/step - loss: 0.7968 - acc: 0.9487 - val_loss: 0.5816 - val_acc: 0.9623\n",
      "Epoch 23/30\n",
      "54000/54000 [==============================] - 4s 73us/step - loss: 0.7533 - acc: 0.9514 - val_loss: 0.5970 - val_acc: 0.9617\n",
      "Epoch 24/30\n",
      "54000/54000 [==============================] - 3s 54us/step - loss: 0.7743 - acc: 0.9503 - val_loss: 0.6148 - val_acc: 0.9602\n",
      "Epoch 25/30\n",
      "54000/54000 [==============================] - 2s 36us/step - loss: 0.7959 - acc: 0.9488 - val_loss: 0.5928 - val_acc: 0.9618\n",
      "Epoch 26/30\n",
      "54000/54000 [==============================] - 2s 36us/step - loss: 0.7336 - acc: 0.9529 - val_loss: 0.6694 - val_acc: 0.9570\n",
      "Epoch 27/30\n",
      "54000/54000 [==============================] - 2s 34us/step - loss: 0.7108 - acc: 0.9541 - val_loss: 0.6108 - val_acc: 0.9612\n",
      "Epoch 28/30\n",
      "54000/54000 [==============================] - 2s 34us/step - loss: 0.7212 - acc: 0.9535 - val_loss: 0.7254 - val_acc: 0.9538\n",
      "Epoch 29/30\n",
      "54000/54000 [==============================] - 2s 34us/step - loss: 0.7059 - acc: 0.9545 - val_loss: 0.5705 - val_acc: 0.9627\n",
      "Epoch 30/30\n",
      "54000/54000 [==============================] - 2s 35us/step - loss: 0.6881 - acc: 0.9556 - val_loss: 0.5934 - val_acc: 0.9615\n"
     ]
    },
    {
     "data": {
      "text/plain": [
       "<keras.callbacks.History at 0x1d9e28ff668>"
      ]
     },
     "execution_count": 303,
     "metadata": {},
     "output_type": "execute_result"
    }
   ],
   "source": [
    "model.fit(x_train, y_train,validation_split=0.1, epochs=30,batch_size = 100)"
   ]
  },
  {
   "cell_type": "code",
   "execution_count": 304,
   "metadata": {
    "ExecuteTime": {
     "end_time": "2019-05-02T10:21:42.611425Z",
     "start_time": "2019-05-02T10:21:42.252052Z"
    }
   },
   "outputs": [
    {
     "name": "stdout",
     "output_type": "stream",
     "text": [
      "10000/10000 [==============================] - 0s 34us/step\n",
      "loss 0.7289911018445715\n",
      "accuracy 0.9526\n"
     ]
    }
   ],
   "source": [
    "score = model.evaluate(x_test, y_test)\n",
    "print(\"loss\", score[0])\n",
    "print(\"accuracy\", score[1])"
   ]
  }
 ],
 "metadata": {
  "kernelspec": {
   "display_name": "Python [default]",
   "language": "python",
   "name": "python3"
  },
  "language_info": {
   "codemirror_mode": {
    "name": "ipython",
    "version": 3
   },
   "file_extension": ".py",
   "mimetype": "text/x-python",
   "name": "python",
   "nbconvert_exporter": "python",
   "pygments_lexer": "ipython3",
   "version": "3.6.3"
  },
  "toc": {
   "base_numbering": 1,
   "nav_menu": {},
   "number_sections": true,
   "sideBar": true,
   "skip_h1_title": false,
   "title_cell": "Table of Contents",
   "title_sidebar": "Contents",
   "toc_cell": false,
   "toc_position": {},
   "toc_section_display": true,
   "toc_window_display": false
  },
  "varInspector": {
   "cols": {
    "lenName": 16,
    "lenType": 16,
    "lenVar": 40
   },
   "kernels_config": {
    "python": {
     "delete_cmd_postfix": "",
     "delete_cmd_prefix": "del ",
     "library": "var_list.py",
     "varRefreshCmd": "print(var_dic_list())"
    },
    "r": {
     "delete_cmd_postfix": ") ",
     "delete_cmd_prefix": "rm(",
     "library": "var_list.r",
     "varRefreshCmd": "cat(var_dic_list()) "
    }
   },
   "types_to_exclude": [
    "module",
    "function",
    "builtin_function_or_method",
    "instance",
    "_Feature"
   ],
   "window_display": false
  }
 },
 "nbformat": 4,
 "nbformat_minor": 2
}
