{
 "cells": [
  {
   "cell_type": "code",
   "execution_count": 39,
   "metadata": {
    "ExecuteTime": {
     "end_time": "2019-05-09T21:17:42.426807Z",
     "start_time": "2019-05-09T21:17:42.411112Z"
    }
   },
   "outputs": [
    {
     "name": "stdout",
     "output_type": "stream",
     "text": [
      "env: KERAS_BACKEND=tensorflow\n"
     ]
    }
   ],
   "source": [
    "%env KERAS_BACKEND=tensorflow\n",
    "%matplotlib inline\n",
    "import tensorflow as tf\n",
    "import os\n",
    "from keras.backend import set_session\n",
    "import numpy as np\n",
    "import keras\n",
    "import matplotlib.pyplot as plt\n",
    "from keras.datasets import mnist\n",
    "from keras.utils import np_utils\n",
    "from keras.models import Sequential\n",
    "from keras.layers import Dense, Activation, Flatten, Conv2D, MaxPool2D\n",
    "from keras.optimizers import Adam, Adadelta"
   ]
  },
  {
   "cell_type": "code",
   "execution_count": 40,
   "metadata": {
    "ExecuteTime": {
     "end_time": "2019-05-09T21:17:42.473609Z",
     "start_time": "2019-05-09T21:17:42.426807Z"
    }
   },
   "outputs": [],
   "source": [
    "#啟用GPU跑程式\n",
    "def create_session(gpu_id='0', pp_mem_frac=None):\n",
    "\n",
    "    tf.reset_default_graph()\n",
    "    os.environ[\"CUDA_VISIBLE_DEVICES\"] = gpu_id # can multiple?\n",
    "    with tf.device('/gpu:' + gpu_id):\n",
    "        config = tf.ConfigProto()\n",
    "        config.gpu_options.allow_growth = True\n",
    "        if pp_mem_frac is not None:\n",
    "            config.gpu_options.per_process_gpu_memory_fraction=pp_mem_frac\n",
    "        session = tf.Session(config = config)\n",
    "    return session\n",
    "gpu_id = '0'\n",
    "sess = create_session(gpu_id)\n",
    "set_session(sess)\n"
   ]
  },
  {
   "cell_type": "markdown",
   "metadata": {
    "ExecuteTime": {
     "end_time": "2019-05-09T21:01:11.480431Z",
     "start_time": "2019-05-09T21:01:11.449126Z"
    }
   },
   "source": [
    "**<font size = 5>讀取檔案+把資料reshape到可以放進cnn</font>**"
   ]
  },
  {
   "cell_type": "code",
   "execution_count": 41,
   "metadata": {
    "ExecuteTime": {
     "end_time": "2019-05-09T21:17:42.879806Z",
     "start_time": "2019-05-09T21:17:42.473609Z"
    }
   },
   "outputs": [],
   "source": [
    "(x_train, y_train), (x_test, y_test) = mnist.load_data()\n",
    "x_train = x_train.reshape(60000, 28, 28, 1)\n",
    "x_test = x_test.reshape(10000, 28, 28, 1)\n",
    "# normalize\n",
    "x_train=x_train/255\n",
    "x_test=x_test/255"
   ]
  },
  {
   "cell_type": "markdown",
   "metadata": {
    "ExecuteTime": {
     "end_time": "2019-05-09T21:03:25.237894Z",
     "start_time": "2019-05-09T21:03:25.222216Z"
    }
   },
   "source": [
    "**<font size = 5>把label改成one hot編碼</font>**"
   ]
  },
  {
   "cell_type": "code",
   "execution_count": 42,
   "metadata": {
    "ExecuteTime": {
     "end_time": "2019-05-09T21:17:42.895430Z",
     "start_time": "2019-05-09T21:17:42.879806Z"
    }
   },
   "outputs": [],
   "source": [
    "y_train=np_utils.to_categorical(y_train,10)\n",
    "y_test=np_utils.to_categorical(y_test,10)"
   ]
  },
  {
   "cell_type": "markdown",
   "metadata": {},
   "source": [
    "**<font size = 5>建立模型</font>**"
   ]
  },
  {
   "cell_type": "code",
   "execution_count": 43,
   "metadata": {
    "ExecuteTime": {
     "end_time": "2019-05-09T21:17:42.989179Z",
     "start_time": "2019-05-09T21:17:42.895430Z"
    }
   },
   "outputs": [
    {
     "name": "stdout",
     "output_type": "stream",
     "text": [
      "_________________________________________________________________\n",
      "Layer (type)                 Output Shape              Param #   \n",
      "=================================================================\n",
      "conv2d_1 (Conv2D)            (None, 28, 28, 4)         40        \n",
      "_________________________________________________________________\n",
      "activation_1 (Activation)    (None, 28, 28, 4)         0         \n",
      "_________________________________________________________________\n",
      "max_pooling2d_1 (MaxPooling2 (None, 14, 14, 4)         0         \n",
      "_________________________________________________________________\n",
      "conv2d_2 (Conv2D)            (None, 14, 14, 8)         296       \n",
      "_________________________________________________________________\n",
      "activation_2 (Activation)    (None, 14, 14, 8)         0         \n",
      "_________________________________________________________________\n",
      "max_pooling2d_2 (MaxPooling2 (None, 7, 7, 8)           0         \n",
      "_________________________________________________________________\n",
      "conv2d_3 (Conv2D)            (None, 7, 7, 16)          1168      \n",
      "_________________________________________________________________\n",
      "activation_3 (Activation)    (None, 7, 7, 16)          0         \n",
      "_________________________________________________________________\n",
      "max_pooling2d_3 (MaxPooling2 (None, 3, 3, 16)          0         \n",
      "_________________________________________________________________\n",
      "flatten_1 (Flatten)          (None, 144)               0         \n",
      "_________________________________________________________________\n",
      "dense_1 (Dense)              (None, 15)                2175      \n",
      "_________________________________________________________________\n",
      "activation_4 (Activation)    (None, 15)                0         \n",
      "_________________________________________________________________\n",
      "dense_2 (Dense)              (None, 10)                160       \n",
      "_________________________________________________________________\n",
      "activation_5 (Activation)    (None, 10)                0         \n",
      "=================================================================\n",
      "Total params: 3,839\n",
      "Trainable params: 3,839\n",
      "Non-trainable params: 0\n",
      "_________________________________________________________________\n"
     ]
    }
   ],
   "source": [
    "model = Sequential()\n",
    "model.add(Conv2D(4,(3,3),padding='same',input_shape=(28,28,1)))\n",
    "model.add(Activation('relu'))\n",
    "model.add(MaxPool2D(pool_size=(2,2)))\n",
    "\n",
    "model.add(Conv2D(8,(3,3),padding='same'))\n",
    "model.add(Activation('relu'))\n",
    "model.add(MaxPool2D(pool_size=(2,2)))\n",
    "\n",
    "model.add(Conv2D(16,(3,3),padding='same'))\n",
    "model.add(Activation('relu'))\n",
    "model.add(MaxPool2D(pool_size=(2,2)))\n",
    "\n",
    "model.add(Flatten())\n",
    "model.add(Dense(15))\n",
    "model.add(Activation('relu'))\n",
    "\n",
    "model.add(Dense(10))\n",
    "model.add(Activation('softmax'))\n",
    "model.compile(loss='categorical_crossentropy',optimizer=Adam(lr=0.004),metrics=['accuracy'])\n",
    "model.summary() "
   ]
  },
  {
   "cell_type": "code",
   "execution_count": 44,
   "metadata": {
    "ExecuteTime": {
     "end_time": "2019-05-09T21:18:20.110920Z",
     "start_time": "2019-05-09T21:17:42.989179Z"
    },
    "scrolled": true
   },
   "outputs": [
    {
     "name": "stdout",
     "output_type": "stream",
     "text": [
      "Train on 54000 samples, validate on 6000 samples\n",
      "Epoch 1/15\n",
      "54000/54000 [==============================] - 3s 51us/step - loss: 0.3185 - acc: 0.8974 - val_loss: 0.1025 - val_acc: 0.9703\n",
      "Epoch 2/15\n",
      "54000/54000 [==============================] - 2s 45us/step - loss: 0.0972 - acc: 0.9698 - val_loss: 0.0732 - val_acc: 0.9795\n",
      "Epoch 3/15\n",
      "54000/54000 [==============================] - 2s 46us/step - loss: 0.0773 - acc: 0.9759 - val_loss: 0.0783 - val_acc: 0.9763\n",
      "Epoch 4/15\n",
      "54000/54000 [==============================] - 2s 45us/step - loss: 0.0650 - acc: 0.9795 - val_loss: 0.0608 - val_acc: 0.9828\n",
      "Epoch 5/15\n",
      "54000/54000 [==============================] - 2s 46us/step - loss: 0.0592 - acc: 0.9815 - val_loss: 0.0610 - val_acc: 0.9815\n",
      "Epoch 6/15\n",
      "54000/54000 [==============================] - 2s 45us/step - loss: 0.0553 - acc: 0.9826 - val_loss: 0.0616 - val_acc: 0.9815\n",
      "Epoch 7/15\n",
      "54000/54000 [==============================] - 2s 45us/step - loss: 0.0499 - acc: 0.9841 - val_loss: 0.0485 - val_acc: 0.9852\n",
      "Epoch 8/15\n",
      "54000/54000 [==============================] - 2s 45us/step - loss: 0.0479 - acc: 0.9845 - val_loss: 0.0509 - val_acc: 0.9852\n",
      "Epoch 9/15\n",
      "54000/54000 [==============================] - 2s 45us/step - loss: 0.0441 - acc: 0.9859 - val_loss: 0.0539 - val_acc: 0.9842\n",
      "Epoch 10/15\n",
      "54000/54000 [==============================] - 2s 45us/step - loss: 0.0410 - acc: 0.9867 - val_loss: 0.0562 - val_acc: 0.9838\n",
      "Epoch 11/15\n",
      "54000/54000 [==============================] - 2s 45us/step - loss: 0.0401 - acc: 0.9872 - val_loss: 0.0549 - val_acc: 0.9852\n",
      "Epoch 12/15\n",
      "54000/54000 [==============================] - 2s 45us/step - loss: 0.0400 - acc: 0.9873 - val_loss: 0.0493 - val_acc: 0.9870\n",
      "Epoch 13/15\n",
      "54000/54000 [==============================] - 2s 45us/step - loss: 0.0386 - acc: 0.9881 - val_loss: 0.0697 - val_acc: 0.9795\n",
      "Epoch 14/15\n",
      "54000/54000 [==============================] - 2s 45us/step - loss: 0.0370 - acc: 0.9880 - val_loss: 0.0496 - val_acc: 0.9858\n",
      "Epoch 15/15\n",
      "54000/54000 [==============================] - 2s 45us/step - loss: 0.0357 - acc: 0.9887 - val_loss: 0.0500 - val_acc: 0.9868\n"
     ]
    },
    {
     "data": {
      "text/plain": [
       "<keras.callbacks.History at 0x25a7594f630>"
      ]
     },
     "execution_count": 44,
     "metadata": {},
     "output_type": "execute_result"
    }
   ],
   "source": [
    "model.fit(x_train, y_train,validation_split=0.1, epochs=15,batch_size = 100)"
   ]
  },
  {
   "cell_type": "code",
   "execution_count": 45,
   "metadata": {
    "ExecuteTime": {
     "end_time": "2019-05-09T21:18:20.548412Z",
     "start_time": "2019-05-09T21:18:20.110920Z"
    }
   },
   "outputs": [
    {
     "name": "stdout",
     "output_type": "stream",
     "text": [
      "10000/10000 [==============================] - 0s 42us/step\n",
      "loss 0.044683795692841526\n",
      "accuracy 0.986\n"
     ]
    }
   ],
   "source": [
    "score = model.evaluate(x_test, y_test)\n",
    "print(\"loss\", score[0])\n",
    "print(\"accuracy\", score[1])"
   ]
  }
 ],
 "metadata": {
  "kernelspec": {
   "display_name": "Python [default]",
   "language": "python",
   "name": "python3"
  },
  "language_info": {
   "codemirror_mode": {
    "name": "ipython",
    "version": 3
   },
   "file_extension": ".py",
   "mimetype": "text/x-python",
   "name": "python",
   "nbconvert_exporter": "python",
   "pygments_lexer": "ipython3",
   "version": "3.6.3"
  },
  "toc": {
   "base_numbering": 1,
   "nav_menu": {},
   "number_sections": true,
   "sideBar": true,
   "skip_h1_title": false,
   "title_cell": "Table of Contents",
   "title_sidebar": "Contents",
   "toc_cell": false,
   "toc_position": {},
   "toc_section_display": true,
   "toc_window_display": false
  },
  "varInspector": {
   "cols": {
    "lenName": 16,
    "lenType": 16,
    "lenVar": 40
   },
   "kernels_config": {
    "python": {
     "delete_cmd_postfix": "",
     "delete_cmd_prefix": "del ",
     "library": "var_list.py",
     "varRefreshCmd": "print(var_dic_list())"
    },
    "r": {
     "delete_cmd_postfix": ") ",
     "delete_cmd_prefix": "rm(",
     "library": "var_list.r",
     "varRefreshCmd": "cat(var_dic_list()) "
    }
   },
   "types_to_exclude": [
    "module",
    "function",
    "builtin_function_or_method",
    "instance",
    "_Feature"
   ],
   "window_display": false
  }
 },
 "nbformat": 4,
 "nbformat_minor": 2
}
