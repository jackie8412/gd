{
 "cells": [
  {
   "cell_type": "code",
   "execution_count": 110,
   "metadata": {
    "ExecuteTime": {
     "end_time": "2019-04-24T19:26:37.749494Z",
     "start_time": "2019-04-24T19:26:37.733929Z"
    }
   },
   "outputs": [],
   "source": [
    "\n",
    "%matplotlib inline\n",
    "import tensorflow as tf\n",
    "import os\n",
    "from keras.backend import set_session\n",
    "import numpy as np\n",
    "import keras\n",
    "import matplotlib.pyplot as plt\n",
    "from keras.datasets import mnist\n",
    "from keras.utils import np_utils\n",
    "from keras.callbacks import EarlyStopping \n",
    "from keras.models import Sequential\n",
    "from keras.layers import Dense, Activation\n",
    "from keras.optimizers import SGD\n",
    "from keras import optimizers"
   ]
  },
  {
   "cell_type": "code",
   "execution_count": 111,
   "metadata": {
    "ExecuteTime": {
     "end_time": "2019-04-24T19:26:37.796420Z",
     "start_time": "2019-04-24T19:26:37.749494Z"
    }
   },
   "outputs": [],
   "source": [
    "\n",
    "def create_session(gpu_id='0', pp_mem_frac=None):\n",
    "\n",
    "    tf.reset_default_graph()\n",
    "    os.environ[\"CUDA_VISIBLE_DEVICES\"] = gpu_id # can multiple?\n",
    "    with tf.device('/gpu:' + gpu_id):\n",
    "        config = tf.ConfigProto()\n",
    "        config.gpu_options.allow_growth = True\n",
    "        if pp_mem_frac is not None:\n",
    "            config.gpu_options.per_process_gpu_memory_fraction=pp_mem_frac\n",
    "        session = tf.Session(config = config)\n",
    "    return session\n",
    "gpu_id = '0'\n",
    "sess = create_session(gpu_id)\n",
    "set_session(sess)\n"
   ]
  },
  {
   "cell_type": "code",
   "execution_count": 112,
   "metadata": {
    "ExecuteTime": {
     "end_time": "2019-04-24T19:26:38.015139Z",
     "start_time": "2019-04-24T19:26:37.796420Z"
    }
   },
   "outputs": [],
   "source": [
    "#讀取檔案+整理成可丟進ann的格式\n",
    "(x_train, y_train), (x_test, y_test) = mnist.load_data()\n",
    "x_train = x_train.reshape(60000, 784)\n",
    "x_test = x_test.reshape(10000, 784)"
   ]
  },
  {
   "cell_type": "code",
   "execution_count": 113,
   "metadata": {
    "ExecuteTime": {
     "end_time": "2019-04-24T19:26:38.030778Z",
     "start_time": "2019-04-24T19:26:38.015139Z"
    }
   },
   "outputs": [],
   "source": [
    "#把label改成one hot編碼\n",
    "y_train = np_utils.to_categorical(y_train, 10)\n",
    "y_test = np_utils.to_categorical(y_test, 10)"
   ]
  },
  {
   "cell_type": "code",
   "execution_count": 114,
   "metadata": {
    "ExecuteTime": {
     "end_time": "2019-04-24T19:26:38.046402Z",
     "start_time": "2019-04-24T19:26:38.030778Z"
    }
   },
   "outputs": [],
   "source": [
    "#加入early stop 避免model overfitting\n",
    "from keras.callbacks import EarlyStopping \n",
    "early_stopping = keras.callbacks.EarlyStopping(\n",
    "    monitor='val_loss', \n",
    "    patience=60, \n",
    "    verbose=2, \n",
    "    mode='min'\n",
    ")"
   ]
  },
  {
   "cell_type": "code",
   "execution_count": 115,
   "metadata": {
    "ExecuteTime": {
     "end_time": "2019-04-24T19:26:38.108902Z",
     "start_time": "2019-04-24T19:26:38.046402Z"
    }
   },
   "outputs": [],
   "source": [
    "model = Sequential()\n",
    "model.add(Dense(160, input_dim=784,activation =\"relu\"))\n",
    "model.add(Dense(80,activation =\"relu\"))\n",
    "model.add(Dense(40,activation =\"relu\"))\n",
    "model.add(Dense(20,activation =\"relu\"))\n",
    "model.add(Dense(10,activation =\"softmax\"))\n",
    "sgd = optimizers.SGD(lr=0.001, decay=1e-6, momentum=0.9, clipvalue=1.)\n",
    "model.compile(loss='categorical_crossentropy', optimizer=sgd,metrics=['accuracy'])"
   ]
  },
  {
   "cell_type": "code",
   "execution_count": 116,
   "metadata": {
    "ExecuteTime": {
     "end_time": "2019-04-24T19:29:06.963675Z",
     "start_time": "2019-04-24T19:26:38.108902Z"
    }
   },
   "outputs": [
    {
     "name": "stdout",
     "output_type": "stream",
     "text": [
      "Train on 54000 samples, validate on 6000 samples\n",
      "Epoch 1/300\n",
      "54000/54000 [==============================] - 2s 34us/step - loss: 2.7460 - acc: 0.3058 - val_loss: 1.4061 - val_acc: 0.4627\n",
      "Epoch 2/300\n",
      "54000/54000 [==============================] - 2s 31us/step - loss: 0.8305 - acc: 0.7483 - val_loss: 0.3301 - val_acc: 0.9033\n",
      "Epoch 3/300\n",
      "54000/54000 [==============================] - 2s 31us/step - loss: 0.3560 - acc: 0.9022 - val_loss: 0.2647 - val_acc: 0.9313\n",
      "Epoch 4/300\n",
      "54000/54000 [==============================] - 2s 31us/step - loss: 0.2661 - acc: 0.9268 - val_loss: 0.2070 - val_acc: 0.9442\n",
      "Epoch 5/300\n",
      "54000/54000 [==============================] - 2s 30us/step - loss: 0.2161 - acc: 0.9410 - val_loss: 0.1835 - val_acc: 0.9483\n",
      "Epoch 6/300\n",
      "54000/54000 [==============================] - 2s 30us/step - loss: 0.1812 - acc: 0.9498 - val_loss: 0.1637 - val_acc: 0.9558\n",
      "Epoch 7/300\n",
      "54000/54000 [==============================] - 2s 30us/step - loss: 0.1588 - acc: 0.9551 - val_loss: 0.1568 - val_acc: 0.9563\n",
      "Epoch 8/300\n",
      "54000/54000 [==============================] - 2s 30us/step - loss: 0.1416 - acc: 0.9600 - val_loss: 0.1662 - val_acc: 0.9562\n",
      "Epoch 9/300\n",
      "54000/54000 [==============================] - 2s 30us/step - loss: 0.1253 - acc: 0.9648 - val_loss: 0.1539 - val_acc: 0.9600\n",
      "Epoch 10/300\n",
      "54000/54000 [==============================] - 2s 30us/step - loss: 0.1116 - acc: 0.9686 - val_loss: 0.1522 - val_acc: 0.9595\n",
      "Epoch 11/300\n",
      "54000/54000 [==============================] - 2s 30us/step - loss: 0.1000 - acc: 0.9712 - val_loss: 0.1543 - val_acc: 0.9610\n",
      "Epoch 12/300\n",
      "54000/54000 [==============================] - 2s 30us/step - loss: 0.0892 - acc: 0.9743 - val_loss: 0.1520 - val_acc: 0.9608\n",
      "Epoch 13/300\n",
      "54000/54000 [==============================] - 2s 30us/step - loss: 0.0803 - acc: 0.9771 - val_loss: 0.1467 - val_acc: 0.9652\n",
      "Epoch 14/300\n",
      "54000/54000 [==============================] - 2s 30us/step - loss: 0.0741 - acc: 0.9782 - val_loss: 0.1598 - val_acc: 0.9642\n",
      "Epoch 15/300\n",
      "54000/54000 [==============================] - 2s 30us/step - loss: 0.0699 - acc: 0.9795 - val_loss: 0.1459 - val_acc: 0.9658\n",
      "Epoch 16/300\n",
      "54000/54000 [==============================] - 2s 30us/step - loss: 0.0600 - acc: 0.9833 - val_loss: 0.1644 - val_acc: 0.9653\n",
      "Epoch 17/300\n",
      "54000/54000 [==============================] - 2s 30us/step - loss: 0.0553 - acc: 0.9848 - val_loss: 0.1586 - val_acc: 0.9637\n",
      "Epoch 18/300\n",
      "54000/54000 [==============================] - 2s 38us/step - loss: 0.0520 - acc: 0.9851 - val_loss: 0.1702 - val_acc: 0.9622\n",
      "Epoch 19/300\n",
      "54000/54000 [==============================] - 2s 39us/step - loss: 0.0447 - acc: 0.9876 - val_loss: 0.1580 - val_acc: 0.9670\n",
      "Epoch 20/300\n",
      "54000/54000 [==============================] - 2s 39us/step - loss: 0.0448 - acc: 0.9869 - val_loss: 0.1691 - val_acc: 0.9647\n",
      "Epoch 21/300\n",
      "54000/54000 [==============================] - 2s 39us/step - loss: 0.0390 - acc: 0.9892 - val_loss: 0.1852 - val_acc: 0.9632\n",
      "Epoch 22/300\n",
      "54000/54000 [==============================] - 2s 39us/step - loss: 0.0371 - acc: 0.9895 - val_loss: 0.1880 - val_acc: 0.9632\n",
      "Epoch 23/300\n",
      "54000/54000 [==============================] - 2s 33us/step - loss: 0.0354 - acc: 0.9904 - val_loss: 0.2027 - val_acc: 0.9628\n",
      "Epoch 24/300\n",
      "54000/54000 [==============================] - 2s 29us/step - loss: 0.0325 - acc: 0.9908 - val_loss: 0.1772 - val_acc: 0.9665\n",
      "Epoch 25/300\n",
      "54000/54000 [==============================] - 2s 29us/step - loss: 0.0292 - acc: 0.9919 - val_loss: 0.1838 - val_acc: 0.9655\n",
      "Epoch 26/300\n",
      "54000/54000 [==============================] - 2s 29us/step - loss: 0.0241 - acc: 0.9938 - val_loss: 0.1804 - val_acc: 0.9673\n",
      "Epoch 27/300\n",
      "54000/54000 [==============================] - 2s 30us/step - loss: 0.0234 - acc: 0.9940 - val_loss: 0.1852 - val_acc: 0.9633\n",
      "Epoch 28/300\n",
      "54000/54000 [==============================] - 2s 39us/step - loss: 0.0227 - acc: 0.9936 - val_loss: 0.1881 - val_acc: 0.9648\n",
      "Epoch 29/300\n",
      "54000/54000 [==============================] - 2s 40us/step - loss: 0.0230 - acc: 0.9938 - val_loss: 0.1924 - val_acc: 0.9640\n",
      "Epoch 30/300\n",
      "54000/54000 [==============================] - 2s 39us/step - loss: 0.0246 - acc: 0.9929 - val_loss: 0.1856 - val_acc: 0.9668\n",
      "Epoch 31/300\n",
      "54000/54000 [==============================] - 2s 39us/step - loss: 0.0188 - acc: 0.9949 - val_loss: 0.2146 - val_acc: 0.9673\n",
      "Epoch 32/300\n",
      "54000/54000 [==============================] - 2s 39us/step - loss: 0.0182 - acc: 0.9950 - val_loss: 0.2133 - val_acc: 0.9680\n",
      "Epoch 33/300\n",
      "54000/54000 [==============================] - 2s 39us/step - loss: 0.0179 - acc: 0.9954 - val_loss: 0.2165 - val_acc: 0.9662\n",
      "Epoch 34/300\n",
      "54000/54000 [==============================] - 2s 40us/step - loss: 0.0217 - acc: 0.9938 - val_loss: 0.2200 - val_acc: 0.9638\n",
      "Epoch 35/300\n",
      "54000/54000 [==============================] - 2s 39us/step - loss: 0.0187 - acc: 0.9948 - val_loss: 0.2448 - val_acc: 0.9622\n",
      "Epoch 36/300\n",
      "54000/54000 [==============================] - 2s 39us/step - loss: 0.0154 - acc: 0.9960 - val_loss: 0.2138 - val_acc: 0.9677\n",
      "Epoch 37/300\n",
      "54000/54000 [==============================] - 2s 39us/step - loss: 0.0142 - acc: 0.9962 - val_loss: 0.2118 - val_acc: 0.9672\n",
      "Epoch 38/300\n",
      "54000/54000 [==============================] - 2s 40us/step - loss: 0.0207 - acc: 0.9943 - val_loss: 0.2225 - val_acc: 0.9662\n",
      "Epoch 39/300\n",
      "54000/54000 [==============================] - 2s 39us/step - loss: 0.0213 - acc: 0.9940 - val_loss: 0.2288 - val_acc: 0.9647\n",
      "Epoch 40/300\n",
      "54000/54000 [==============================] - 2s 39us/step - loss: 0.0218 - acc: 0.9942 - val_loss: 0.2158 - val_acc: 0.9653\n",
      "Epoch 41/300\n",
      "54000/54000 [==============================] - 2s 39us/step - loss: 0.0175 - acc: 0.9954 - val_loss: 0.2237 - val_acc: 0.9657\n",
      "Epoch 42/300\n",
      "54000/54000 [==============================] - 2s 40us/step - loss: 0.0120 - acc: 0.9969 - val_loss: 0.2125 - val_acc: 0.9683\n",
      "Epoch 43/300\n",
      "54000/54000 [==============================] - 2s 39us/step - loss: 0.0158 - acc: 0.9958 - val_loss: 0.2268 - val_acc: 0.9677\n",
      "Epoch 44/300\n",
      "54000/54000 [==============================] - 2s 39us/step - loss: 0.0100 - acc: 0.9976 - val_loss: 0.2096 - val_acc: 0.9682\n",
      "Epoch 45/300\n",
      "54000/54000 [==============================] - 2s 39us/step - loss: 0.0102 - acc: 0.9976 - val_loss: 0.2149 - val_acc: 0.9683\n",
      "Epoch 46/300\n",
      "54000/54000 [==============================] - 2s 39us/step - loss: 0.0100 - acc: 0.9975 - val_loss: 0.2134 - val_acc: 0.9675\n",
      "Epoch 47/300\n",
      "54000/54000 [==============================] - 2s 40us/step - loss: 0.0096 - acc: 0.9977 - val_loss: 0.2130 - val_acc: 0.9695\n",
      "Epoch 48/300\n",
      "54000/54000 [==============================] - 2s 39us/step - loss: 0.0105 - acc: 0.9973 - val_loss: 0.2196 - val_acc: 0.9687\n",
      "Epoch 49/300\n",
      "54000/54000 [==============================] - 2s 40us/step - loss: 0.0092 - acc: 0.9977 - val_loss: 0.2054 - val_acc: 0.9693\n",
      "Epoch 50/300\n",
      "54000/54000 [==============================] - 2s 39us/step - loss: 0.0069 - acc: 0.9985 - val_loss: 0.2100 - val_acc: 0.9690\n",
      "Epoch 51/300\n",
      "54000/54000 [==============================] - 2s 39us/step - loss: 0.0058 - acc: 0.9989 - val_loss: 0.2122 - val_acc: 0.9695\n",
      "Epoch 52/300\n",
      "54000/54000 [==============================] - 2s 40us/step - loss: 0.0056 - acc: 0.9989 - val_loss: 0.2142 - val_acc: 0.9697\n",
      "Epoch 53/300\n",
      "54000/54000 [==============================] - 2s 39us/step - loss: 0.0055 - acc: 0.9989 - val_loss: 0.2114 - val_acc: 0.9693\n",
      "Epoch 54/300\n",
      "54000/54000 [==============================] - 2s 39us/step - loss: 0.0054 - acc: 0.9990 - val_loss: 0.2101 - val_acc: 0.9688\n",
      "Epoch 55/300\n",
      "54000/54000 [==============================] - 2s 39us/step - loss: 0.0053 - acc: 0.9990 - val_loss: 0.2182 - val_acc: 0.9702\n",
      "Epoch 56/300\n",
      "54000/54000 [==============================] - 2s 40us/step - loss: 0.0052 - acc: 0.9989 - val_loss: 0.2301 - val_acc: 0.9682\n",
      "Epoch 57/300\n",
      "54000/54000 [==============================] - 2s 39us/step - loss: 0.0053 - acc: 0.9989 - val_loss: 0.2201 - val_acc: 0.9697\n",
      "Epoch 58/300\n",
      "54000/54000 [==============================] - 2s 40us/step - loss: 0.0049 - acc: 0.9990 - val_loss: 0.2261 - val_acc: 0.9680\n",
      "Epoch 59/300\n"
     ]
    },
    {
     "name": "stdout",
     "output_type": "stream",
     "text": [
      "54000/54000 [==============================] - 2s 39us/step - loss: 0.0049 - acc: 0.9990 - val_loss: 0.2270 - val_acc: 0.9695\n",
      "Epoch 60/300\n",
      "54000/54000 [==============================] - 2s 39us/step - loss: 0.0049 - acc: 0.9990 - val_loss: 0.2232 - val_acc: 0.9698\n",
      "Epoch 61/300\n",
      "54000/54000 [==============================] - 2s 39us/step - loss: 0.0049 - acc: 0.9990 - val_loss: 0.2257 - val_acc: 0.9693\n",
      "Epoch 62/300\n",
      "54000/54000 [==============================] - 2s 39us/step - loss: 0.0048 - acc: 0.9990 - val_loss: 0.2263 - val_acc: 0.9693\n",
      "Epoch 63/300\n",
      "54000/54000 [==============================] - 2s 39us/step - loss: 0.0048 - acc: 0.9990 - val_loss: 0.2269 - val_acc: 0.9683\n",
      "Epoch 64/300\n",
      "54000/54000 [==============================] - 2s 39us/step - loss: 0.0049 - acc: 0.9989 - val_loss: 0.2315 - val_acc: 0.9687\n",
      "Epoch 65/300\n",
      "54000/54000 [==============================] - 2s 39us/step - loss: 0.0047 - acc: 0.9990 - val_loss: 0.2318 - val_acc: 0.9693\n",
      "Epoch 66/300\n",
      "54000/54000 [==============================] - 2s 40us/step - loss: 0.0047 - acc: 0.9990 - val_loss: 0.2352 - val_acc: 0.9693\n",
      "Epoch 67/300\n",
      "54000/54000 [==============================] - 2s 39us/step - loss: 0.0047 - acc: 0.9990 - val_loss: 0.2250 - val_acc: 0.9697\n",
      "Epoch 68/300\n",
      "54000/54000 [==============================] - 2s 40us/step - loss: 0.0047 - acc: 0.9991 - val_loss: 0.2373 - val_acc: 0.9690\n",
      "Epoch 69/300\n",
      "54000/54000 [==============================] - 2s 39us/step - loss: 0.0044 - acc: 0.9991 - val_loss: 0.2333 - val_acc: 0.9697\n",
      "Epoch 70/300\n",
      "54000/54000 [==============================] - 2s 39us/step - loss: 0.0045 - acc: 0.9991 - val_loss: 0.2341 - val_acc: 0.9687\n",
      "Epoch 71/300\n",
      "54000/54000 [==============================] - 2s 39us/step - loss: 0.0046 - acc: 0.9991 - val_loss: 0.2410 - val_acc: 0.9690\n",
      "Epoch 72/300\n",
      "54000/54000 [==============================] - 2s 39us/step - loss: 0.0045 - acc: 0.9991 - val_loss: 0.2324 - val_acc: 0.9698\n",
      "Epoch 73/300\n",
      "54000/54000 [==============================] - 2s 39us/step - loss: 0.0046 - acc: 0.9990 - val_loss: 0.2438 - val_acc: 0.9702\n",
      "Epoch 74/300\n",
      "54000/54000 [==============================] - 2s 39us/step - loss: 0.0045 - acc: 0.9991 - val_loss: 0.2343 - val_acc: 0.9690\n",
      "Epoch 75/300\n",
      "54000/54000 [==============================] - 2s 39us/step - loss: 0.0045 - acc: 0.9991 - val_loss: 0.2370 - val_acc: 0.9697\n",
      "Epoch 00075: early stopping\n"
     ]
    },
    {
     "data": {
      "text/plain": [
       "<keras.callbacks.History at 0x26de56a4518>"
      ]
     },
     "execution_count": 116,
     "metadata": {},
     "output_type": "execute_result"
    }
   ],
   "source": [
    "model.fit(x_train, y_train,validation_split=0.1, epochs=300,batch_size = 100,callbacks=[early_stopping])"
   ]
  },
  {
   "cell_type": "code",
   "execution_count": 117,
   "metadata": {
    "ExecuteTime": {
     "end_time": "2019-04-24T19:29:07.401176Z",
     "start_time": "2019-04-24T19:29:06.963675Z"
    }
   },
   "outputs": [
    {
     "name": "stdout",
     "output_type": "stream",
     "text": [
      "10000/10000 [==============================] - 0s 42us/step\n",
      "loss 0.2868611091341993\n",
      "accuracy 0.9656\n"
     ]
    }
   ],
   "source": [
    "score = model.evaluate(x_test, y_test)\n",
    "print(\"loss\", score[0])\n",
    "print(\"accuracy\", score[1])"
   ]
  }
 ],
 "metadata": {
  "kernelspec": {
   "display_name": "Python [default]",
   "language": "python",
   "name": "python3"
  },
  "language_info": {
   "codemirror_mode": {
    "name": "ipython",
    "version": 3
   },
   "file_extension": ".py",
   "mimetype": "text/x-python",
   "name": "python",
   "nbconvert_exporter": "python",
   "pygments_lexer": "ipython3",
   "version": "3.6.3"
  },
  "toc": {
   "base_numbering": 1,
   "nav_menu": {},
   "number_sections": true,
   "sideBar": true,
   "skip_h1_title": false,
   "title_cell": "Table of Contents",
   "title_sidebar": "Contents",
   "toc_cell": false,
   "toc_position": {},
   "toc_section_display": true,
   "toc_window_display": false
  },
  "varInspector": {
   "cols": {
    "lenName": 16,
    "lenType": 16,
    "lenVar": 40
   },
   "kernels_config": {
    "python": {
     "delete_cmd_postfix": "",
     "delete_cmd_prefix": "del ",
     "library": "var_list.py",
     "varRefreshCmd": "print(var_dic_list())"
    },
    "r": {
     "delete_cmd_postfix": ") ",
     "delete_cmd_prefix": "rm(",
     "library": "var_list.r",
     "varRefreshCmd": "cat(var_dic_list()) "
    }
   },
   "types_to_exclude": [
    "module",
    "function",
    "builtin_function_or_method",
    "instance",
    "_Feature"
   ],
   "window_display": false
  }
 },
 "nbformat": 4,
 "nbformat_minor": 2
}
